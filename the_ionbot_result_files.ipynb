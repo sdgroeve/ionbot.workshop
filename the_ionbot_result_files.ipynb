{
 "cells": [
  {
   "cell_type": "markdown",
   "metadata": {
    "id": "_Nve5R1baQob"
   },
   "source": [
    "# Search Results Files"
   ]
  },
  {
   "cell_type": "code",
   "execution_count": null,
   "metadata": {
    "id": "KcaMLOcEaQod"
   },
   "outputs": [],
   "source": [
    "%matplotlib inline\n",
    "import os\n",
    "\n",
    "import matplotlib.pyplot as plt\n",
    "import seaborn as sns\n",
    "import numpy as np\n",
    "import pandas as pd\n",
    "import plotly.express as px\n",
    "import zipfile\n",
    "\n",
    "from itables import init_notebook_mode\n",
    "init_notebook_mode(all_interactive=True)\n",
    "import itables.options as opt\n",
    "\n",
    "import matplotlib as mpl\n",
    "\n",
    "opt.maxBytes = 0\n",
    "opt.classes = [\"display\", \"nowrap\",\"compact\",\"hover\"]\n",
    "opt.showIndex = False\n",
    "opt.style = \"max-width:6000px\"\n",
    "pd.set_option('display.max_colwidth', 400)"
   ]
  },
  {
   "cell_type": "markdown",
   "metadata": {},
   "source": [
    "In the next cell we download all the ionbot result files, create directories to put these files and unzip the result files."
   ]
  },
  {
   "cell_type": "code",
   "execution_count": null,
   "metadata": {
    "colab": {
     "base_uri": "https://localhost:8080/"
    },
    "id": "1Oz4qvVQaQoe",
    "outputId": "3616f906-3e36-4e7e-bb4f-9a31f78f7658"
   },
   "outputs": [],
   "source": [
    "! wget -q --no-parent https://genesis.ugent.be/uvpublicdata/copenhagen_20220913/ionbot_teeth_copenhagen.zip ./\n",
    "! mkdir ~/ionbot_result_files/\n",
    "! mkdir ~/ionbot_processed_result_files/\n",
    "! unzip -q ionbot_teeth_copenhagen.zip -d ~/ionbot_result_files"
   ]
  },
  {
   "cell_type": "markdown",
   "metadata": {},
   "source": [
    "The `ionbot.twbx` result file contains the matched peptides and proteins as a compressed file. \n",
    "\n",
    "This file can be renamed to better relfect the processed sample.\n",
    "\n",
    "In the following field you can specify the path to the result file: "
   ]
  },
  {
   "cell_type": "code",
   "execution_count": null,
   "metadata": {},
   "outputs": [],
   "source": [
    "twbx_file = \"./ionbot_result_files/20150929_QE5_UPLC10_RJC_SA_Plaque6_01/ionbot.twbx\""
   ]
  },
  {
   "cell_type": "markdown",
   "metadata": {},
   "source": [
    "This result file can be extracted as a zip file, but here we will decompress the file using Python.\n",
    "\n",
    "You can specify the folder to where to extract the ionbot result files to:"
   ]
  },
  {
   "cell_type": "code",
   "execution_count": null,
   "metadata": {},
   "outputs": [],
   "source": [
    "main_result_folder = \"./ionbot_processed_result_files/\"\n",
    "main_download_folder = \"./ionbot_result_files/\""
   ]
  },
  {
   "cell_type": "code",
   "execution_count": null,
   "metadata": {},
   "outputs": [],
   "source": [
    "ionbot_results_dir = \"./ionbot_result_files/\"\n",
    "processed_files = []\n",
    "\n",
    "for f in os.listdir(ionbot_results_dir):\n",
    "    if os.path.isfile(os.path.join(ionbot_results_dir,f)):\n",
    "        continue\n",
    "        \n",
    "    archive = zipfile.ZipFile(os.path.join(os.path.join(main_download_folder,f),\"ionbot.twbx\"))\n",
    "    \n",
    "    for file in archive.namelist():\n",
    "        if file.startswith('Data/'):\n",
    "            archive.extract(file, os.path.join(main_result_folder,f))\n",
    "    processed_files.append(os.path.join(main_result_folder,f))"
   ]
  },
  {
   "cell_type": "markdown",
   "metadata": {
    "id": "LQZNAnvnaQof"
   },
   "source": [
    "The result files are written to the subfolders `Data/ionbot_result`:"
   ]
  },
  {
   "cell_type": "code",
   "execution_count": null,
   "metadata": {},
   "outputs": [],
   "source": [
    "result_folder = [os.path.join(pf,\"Data/ionbot_result\") for pf in processed_files]"
   ]
  },
  {
   "cell_type": "markdown",
   "metadata": {
    "id": "vgrzuxIpaQof"
   },
   "source": [
    "The content of the result files is described [here](https://ionbot.cloud/help)."
   ]
  },
  {
   "cell_type": "markdown",
   "metadata": {
    "id": "D4hDXHTMaQof"
   },
   "source": [
    "## The PSM results\n",
    "\n",
    "First, we load the result file that contains the first ranked matches for each MS2 spectrum (for a single run):"
   ]
  },
  {
   "cell_type": "code",
   "execution_count": null,
   "metadata": {
    "id": "LxOjRXKKaQog"
   },
   "outputs": [],
   "source": [
    "single_result_folder = \"ionbot_processed_result_files/20150929_QE5_UPLC10_RJC_SA_Plaque6_01/Data/ionbot_result/\"\n",
    "ionbot = pd.read_csv(os.path.join(single_result_folder,\"ionbot.first.csv\"))"
   ]
  },
  {
   "cell_type": "markdown",
   "metadata": {
    "id": "qBndD07eaQog"
   },
   "source": [
    "These are the column names:"
   ]
  },
  {
   "cell_type": "code",
   "execution_count": null,
   "metadata": {
    "colab": {
     "base_uri": "https://localhost:8080/"
    },
    "id": "D9hvwbQDaQog",
    "outputId": "aa54735e-57c0-4133-b6ac-8fcc974e0d43"
   },
   "outputs": [],
   "source": [
    "for col in ionbot.columns:\n",
    "    print(col)"
   ]
  },
  {
   "cell_type": "markdown",
   "metadata": {
    "id": "zzVjgqdwaQog"
   },
   "source": [
    "Let's print some columns and explain the content:"
   ]
  },
  {
   "cell_type": "code",
   "execution_count": null,
   "metadata": {
    "colab": {
     "base_uri": "https://localhost:8080/",
     "height": 436
    },
    "id": "k9pZCQScaQog",
    "outputId": "6832a816-8fa3-4751-8044-158ece52f316"
   },
   "outputs": [],
   "source": [
    "cols_to_use = [\"ionbot_match_id\",\"database_peptide\",\"matched_peptide\",\n",
    "               \"modifications\",\"modifications_delta\",\"unexpected_modification\"]\n",
    "ionbot[cols_to_use]"
   ]
  },
  {
   "cell_type": "markdown",
   "metadata": {
    "id": "rj52xbBfaQog"
   },
   "source": [
    "The column `database` is `T` if the PSM matched the target database, it is `D` otherwise."
   ]
  },
  {
   "cell_type": "code",
   "execution_count": null,
   "metadata": {
    "colab": {
     "base_uri": "https://localhost:8080/",
     "height": 372
    },
    "id": "iC8kpAZ4aQoh",
    "outputId": "05daaab8-363f-4e4d-9013-04743cd0d990"
   },
   "outputs": [],
   "source": [
    "cols_to_use = [\"ionbot_match_id\",\"database\",\"q-value\"]\n",
    "ionbot[cols_to_use]"
   ]
  },
  {
   "cell_type": "markdown",
   "metadata": {
    "id": "9NIge8iwaQoh"
   },
   "source": [
    "We can see that the result file contains all matches with FDR <= 1%. Can you think of a scenario when you would need all spectrum matches?"
   ]
  },
  {
   "cell_type": "markdown",
   "metadata": {},
   "source": [
    "<details>\n",
    "  <summary>>show</summary>\n",
    "\n",
    "  ```\n",
    "  For machine learning based rescoring PSMs all the target and decoy hits are required, since it needs to learn what bad matches look like. This is definitely not the only scenario though!\n",
    "  ```\n",
    "</details>"
   ]
  },
  {
   "cell_type": "code",
   "execution_count": null,
   "metadata": {
    "colab": {
     "base_uri": "https://localhost:8080/"
    },
    "id": "0IebBLJpaQoh",
    "outputId": "8a5b783f-2113-4c10-9711-46501dcc24bd"
   },
   "outputs": [],
   "source": [
    "print(ionbot[\"database\"].value_counts())"
   ]
  },
  {
   "cell_type": "markdown",
   "metadata": {
    "id": "Ev7iv_X9aQoh"
   },
   "source": [
    "The column `psm_score` contains the PSM score for the matched spectra:"
   ]
  },
  {
   "cell_type": "code",
   "execution_count": null,
   "metadata": {
    "colab": {
     "base_uri": "https://localhost:8080/",
     "height": 542
    },
    "id": "M3Qcu1XfaQoh",
    "outputId": "d8e9c148-5fe4-40f1-e07b-bf02a72b6980"
   },
   "outputs": [],
   "source": [
    "px.histogram(ionbot,\n",
    "             x=\"psm_score\", \n",
    "             color=\"database\", \n",
    "             nbins=50\n",
    "            )"
   ]
  },
  {
   "cell_type": "markdown",
   "metadata": {
    "id": "yXOC0l5HaQoi"
   },
   "source": [
    "Next, we load the result file that contains the lower ranked (co-eluting) matches for each MS2 spectrum and add these to the search results:"
   ]
  },
  {
   "cell_type": "code",
   "execution_count": null,
   "metadata": {
    "id": "lKx1lrSdaQoi"
   },
   "outputs": [],
   "source": [
    "ionbot[\"rank\"] = [\"first\"]*len(ionbot)\n",
    "tmp = pd.read_csv(os.path.join(single_result_folder,\"ionbot.lower.csv\"))\n",
    "tmp[\"rank\"] = [\"lower\"]*len(tmp)\n",
    "ionbot = pd.concat([ionbot,tmp])"
   ]
  },
  {
   "cell_type": "markdown",
   "metadata": {
    "id": "7qouhZrsaQoi"
   },
   "source": [
    "For the remainder, we remove the matches against the decoy database:"
   ]
  },
  {
   "cell_type": "code",
   "execution_count": null,
   "metadata": {
    "id": "JzkpkaR4aQoi"
   },
   "outputs": [],
   "source": [
    "ionbot = ionbot[(ionbot[\"database\"]==\"T\")]"
   ]
  },
  {
   "cell_type": "markdown",
   "metadata": {
    "id": "sHxly0sUaQoi"
   },
   "source": [
    "While adding the lower ranked matches we created a column `rank` that has value 'first' if the match was ranked first based on the psm_score, and 'lower' otherwise:"
   ]
  },
  {
   "cell_type": "code",
   "execution_count": null,
   "metadata": {
    "colab": {
     "base_uri": "https://localhost:8080/"
    },
    "id": "VQfqJYqUaQoi",
    "outputId": "bf2086be-3129-4039-900d-65ea0f75bec9"
   },
   "outputs": [],
   "source": [
    "print(ionbot[\"rank\"].value_counts())"
   ]
  },
  {
   "cell_type": "markdown",
   "metadata": {
    "id": "S4EocY2UaQoj"
   },
   "source": [
    "To reconstruct the LC-MS separation for matched MS2 spectra we can use the `observed_retention_time` and `precursor_mass` columns. Can you see a trend? (not ionbot specific)"
   ]
  },
  {
   "cell_type": "markdown",
   "metadata": {},
   "source": [
    "<details>\n",
    "  <summary>>show</summary>\n",
    "\n",
    "  ```\n",
    "  The precursor mass and retention time are correlated. Peptides tend to be slightly more hydrophobic with increasing length. Retention time is not a fully orthogonal measurement to m/z!\n",
    "  ```\n",
    "</details>"
   ]
  },
  {
   "cell_type": "code",
   "execution_count": null,
   "metadata": {
    "colab": {
     "base_uri": "https://localhost:8080/",
     "height": 542
    },
    "id": "252UY9shaQoj",
    "outputId": "8fbcbb74-2f32-448c-97a0-3678f7707e89"
   },
   "outputs": [],
   "source": [
    "fig = px.scatter(ionbot, \n",
    "                 x=\"observed_retention_time\", \n",
    "                 y=\"precursor_mass\", \n",
    "                 color=\"rank\",\n",
    "                 hover_data=[\"ionbot_match_id\",\"matched_peptide\"]\n",
    "                )\n",
    "fig.update_traces(marker=dict(size=2))\n",
    "fig.show()"
   ]
  },
  {
   "cell_type": "markdown",
   "metadata": {
    "id": "muRwoJjpaQoj"
   },
   "source": [
    "The `ionbot.features.csv` result files contains the matching information used in the PSM scoring function.\n",
    "\n",
    "We load `ionbot.features.csv` and merge it with the search results: "
   ]
  },
  {
   "cell_type": "code",
   "execution_count": null,
   "metadata": {},
   "outputs": [],
   "source": [
    "os.path.join(single_result_folder,\"/ionbot.features.csv\")"
   ]
  },
  {
   "cell_type": "code",
   "execution_count": null,
   "metadata": {
    "colab": {
     "base_uri": "https://localhost:8080/"
    },
    "id": "u_oJ8pU_aQoj",
    "outputId": "aaf2d338-0fc5-4262-ac95-4801e5e63e27"
   },
   "outputs": [],
   "source": [
    "features = pd.read_csv(f\"{single_result_folder}/ionbot.features.csv\")\n",
    "ionbot = ionbot.merge(features,on=\"ionbot_match_id\",how=\"left\")\n",
    "\n",
    "for col in features.columns:\n",
    "    print(col)"
   ]
  },
  {
   "cell_type": "markdown",
   "metadata": {
    "id": "9-9c0OeFaQoj"
   },
   "source": [
    "We can plot these feature values as boxplots:"
   ]
  },
  {
   "cell_type": "code",
   "execution_count": null,
   "metadata": {
    "colab": {
     "base_uri": "https://localhost:8080/",
     "height": 542
    },
    "id": "diXL1LTVaQoj",
    "outputId": "591f6e7b-7bba-4fe0-e394-3ead1141d961"
   },
   "outputs": [],
   "source": [
    "px.box(ionbot, \n",
    "       y=[\"by-count\",\"all-count\"],\n",
    "       color=\"rank\",\n",
    "       hover_data=[\"ionbot_match_id\"]\n",
    "      )"
   ]
  },
  {
   "cell_type": "code",
   "execution_count": null,
   "metadata": {
    "colab": {
     "base_uri": "https://localhost:8080/",
     "height": 542
    },
    "id": "nnCW2WDbaQoj",
    "outputId": "f1e8c670-a752-4fc0-f418-feca5007a0df"
   },
   "outputs": [],
   "source": [
    "px.box(ionbot, \n",
    "       y=[\"by-explained\",\"all-explained\"],\n",
    "       color=\"rank\",\n",
    "       hover_data=[\"ionbot_match_id\"]       \n",
    "      )"
   ]
  },
  {
   "cell_type": "code",
   "execution_count": null,
   "metadata": {
    "colab": {
     "base_uri": "https://localhost:8080/",
     "height": 542
    },
    "id": "SJVXAXT6aQok",
    "outputId": "c1132c57-3d67-4a1f-b2bb-1a52d8e714dc"
   },
   "outputs": [],
   "source": [
    "px.box(ionbot, \n",
    "       y=[\"by-intensity-pattern-correlation\"],\n",
    "       color=\"rank\",\n",
    "       hover_data=[\"ionbot_match_id\"]      \n",
    "       )"
   ]
  },
  {
   "cell_type": "code",
   "execution_count": null,
   "metadata": {
    "colab": {
     "base_uri": "https://localhost:8080/",
     "height": 542
    },
    "id": "tHkmZGolaQok",
    "outputId": "72c04524-f468-4784-c1e6-8d5f98e8e6f0"
   },
   "outputs": [],
   "source": [
    "px.box(ionbot, \n",
    "       y=[\"rt-pred-error\"],\n",
    "       color=\"rank\",\n",
    "       hover_data=[\"ionbot_match_id\"]\n",
    "      )"
   ]
  },
  {
   "cell_type": "code",
   "execution_count": null,
   "metadata": {
    "colab": {
     "base_uri": "https://localhost:8080/",
     "height": 542
    },
    "id": "f-i8MEn1aQok",
    "outputId": "b7d65163-0ca1-4a1d-a1d5-b7f7f4b72fcc"
   },
   "outputs": [],
   "source": [
    "fig = px.scatter(ionbot, \n",
    "                 x=\"observed_retention_time\", \n",
    "                 y=\"predicted_retention_time\",\n",
    "                 color=\"rank\",\n",
    "                 hover_data=[\"ionbot_match_id\"]\n",
    "                )\n",
    "fig.update_traces(marker=dict(size=2))\n",
    "fig.show()"
   ]
  },
  {
   "cell_type": "code",
   "execution_count": null,
   "metadata": {
    "colab": {
     "base_uri": "https://localhost:8080/",
     "height": 542
    },
    "id": "O7ppvbn0aQok",
    "outputId": "c29d32e7-83f1-4afa-dcbd-e73f9aca40aa"
   },
   "outputs": [],
   "source": [
    "fig = px.scatter(ionbot, \n",
    "                 x=\"corrected_retention_time\", \n",
    "                 y=\"predicted_retention_time\",\n",
    "                 color=\"rank\",\n",
    "                 hover_data=[\"ionbot_match_id\"]\n",
    "                )\n",
    "fig.update_traces(marker=dict(size=2))\n",
    "fig.show()"
   ]
  },
  {
   "cell_type": "markdown",
   "metadata": {
    "id": "0RZHfjkdaQok"
   },
   "source": [
    "The `proteins` column contains detailed protein matching information:"
   ]
  },
  {
   "cell_type": "code",
   "execution_count": null,
   "metadata": {
    "colab": {
     "base_uri": "https://localhost:8080/",
     "height": 436
    },
    "id": "misaipnJaQok",
    "outputId": "44433bb5-4743-444d-d5bb-2869245f79b7"
   },
   "outputs": [],
   "source": [
    "ionbot[[\"ionbot_match_id\",\"proteins\"]]"
   ]
  },
  {
   "cell_type": "markdown",
   "metadata": {
    "id": "uShOP0hCaQol"
   },
   "source": [
    "## Adding Uiversal Spectrum Identifiers\n",
    "\n",
    "If the spectrum files were uploaded to a public ProteomeXchange repository, then PSM annotations can be obtained by adding Universal Spectral Identifiers (USI).\n",
    "\n",
    "The USI is a proposed standard in the process of being ratified by the Proteomics Standards Initiative (PSI) that enables the identification of a specific spectrum or PSM contained in public ProteomeXchange repositories.\n",
    "\n",
    "For more information, including the draft specification, please see http://psidev.info/usi/\n",
    "\n",
    "The resuired url can be constructed from the columns in the results files:"
   ]
  },
  {
   "cell_type": "code",
   "execution_count": null,
   "metadata": {
    "id": "fAuDFeXnaQol"
   },
   "outputs": [],
   "source": [
    "dataset = \"PXD008601\"\n",
    "\n",
    "def get_universal_link(x):\n",
    "    file = '.'.join(x[\"spectrum_file\"].split('.')[:-1])\n",
    "    s = x[\"matched_peptide\"]\n",
    "    if str(x[\"modifications\"]) != \"nan\":\n",
    "        tmp = x[\"modifications_delta\"].split(\"|\")\n",
    "        seq = list(x[\"matched_peptide\"])\n",
    "        for i in range(0,len(tmp),2):\n",
    "            pos = int(tmp[i])\n",
    "            delta = tmp[i+1]\n",
    "            if not delta.startswith('-'):\n",
    "                delta = '%2B' + delta\n",
    "            if pos == 0: #N-TERM\n",
    "                seq.insert(pos,\"[%s]\"%delta)\n",
    "            elif pos == len(seq)+1: #C-TERM\n",
    "                seq.insert(pos-2,\"[%s]\"%delta)\n",
    "            else:\n",
    "                seq.insert(pos,\"[%s]\"%delta)\n",
    "        s = ''.join(seq)\n",
    "    link = \"http://proteomecentral.proteomexchange.org/usi/?usi=mzspec:%s:%s:scan:%i:%s/%i\"%(\n",
    "        dataset,file,x[\"scan\"],s,x[\"charge\"])\n",
    "    return f'<a target=\"_blank\" href=\"%s\">click</a>'%link"
   ]
  },
  {
   "cell_type": "code",
   "execution_count": null,
   "metadata": {
    "id": "i7-7S0f3aQol"
   },
   "outputs": [],
   "source": [
    "ionbot[\"USI\"] = ionbot.apply(get_universal_link,axis=1)"
   ]
  },
  {
   "cell_type": "markdown",
   "metadata": {
    "id": "oZGaVqaSaQol"
   },
   "source": [
    "Now we added a column `USI` that contains links to the spectrum annotations:"
   ]
  },
  {
   "cell_type": "code",
   "execution_count": null,
   "metadata": {
    "colab": {
     "base_uri": "https://localhost:8080/",
     "height": 436
    },
    "id": "hXixaYeXaQol",
    "outputId": "0b4b4e61-1021-4fe6-aedb-9ab6f095e174"
   },
   "outputs": [],
   "source": [
    "cols_to_use = [\"ionbot_match_id\",\"database_peptide\",\"matched_peptide\",\n",
    "               \"modifications\",\"modifications_delta\",\"unexpected_modification\"]\n",
    "ionbot[cols_to_use + [\"USI\"]]"
   ]
  },
  {
   "cell_type": "markdown",
   "metadata": {
    "colab": {
     "base_uri": "https://localhost:8080/",
     "height": 131
    },
    "id": "31DoJ_kAi8TU",
    "outputId": "db87a8a1-1954-4abb-b4b1-0ba33c804bae"
   },
   "source": [
    "Unfortunately this repository did not contain MGF files. So the USI will not work for visualizing the spectrum. The next link will take you to an example of a working USI visualization:\n",
    "[link](http://proteomecentral.proteomexchange.org/usi/?usi=mzspec:PXD000561:Adult_Frontalcortex_bRP_Elite_85_f09:scan:17555:VLHPLEGAVVIIFK/2)                       "
   ]
  },
  {
   "cell_type": "markdown",
   "metadata": {},
   "source": [
    "What do you define as a good (trustworthy) match with a MS2 spectrum?"
   ]
  },
  {
   "cell_type": "markdown",
   "metadata": {},
   "source": [
    "<details>\n",
    "  <summary>>show</summary>\n",
    "\n",
    "  ```\n",
    "  The target decoy approach provides a good metric for defining this cut-off. However, sometimes you want to have extra confidence in a match or you want to validate matches with a higher Q-value. Manual inspection can be a useful method. Indeed, this inspection is subjective (e.g., how many y-ions should match for a good hit?). Instead of hand-defined scoring functions the build-in method of rescoring approach of ionbot is able to do this. This is following the target decoy approach, but this usually results in a more refined scoring of hits that are slightly above the FDR-threshold and gives more confidence in PSMs that are true matches.\n",
    "  ```\n",
    "</details>"
   ]
  },
  {
   "cell_type": "markdown",
   "metadata": {
    "id": "2FGbYCexaQol"
   },
   "source": [
    "## JQuery Lorikeet PSM Annotations\n",
    "\n",
    "Alternatively, PSM annotations can be computed from local MGF files:"
   ]
  },
  {
   "cell_type": "code",
   "execution_count": null,
   "metadata": {
    "id": "dTds0rcsaQol"
   },
   "outputs": [],
   "source": [
    "import annotations.lorikeet\n",
    "import shutil\n",
    "\n",
    "! mkdir mgf\n",
    "! wget -q --no-parent https://genesis.ugent.be/uvpublicdata/copenhagen_20220913/20150929_QE5_UPLC10_RJC_SA_Plaque6_01.zip ./\n",
    "! unzip -q 20150929_QE5_UPLC10_RJC_SA_Plaque6_01.zip -d ~/mgf/"
   ]
  },
  {
   "cell_type": "markdown",
   "metadata": {
    "id": "p562LdyYaQol"
   },
   "source": [
    "You need to specify the folder that contains the spectrum MGF files and a folder to store the annotated spectra that are written as HTML files:"
   ]
  },
  {
   "cell_type": "code",
   "execution_count": null,
   "metadata": {
    "id": "NC8db8csaQom"
   },
   "outputs": [],
   "source": [
    "mgf_folder = \"mgf/\"\n",
    "annotations_folder = \"my_annotations/\""
   ]
  },
  {
   "cell_type": "markdown",
   "metadata": {
    "id": "45eR06y0aQom"
   },
   "source": [
    "Next, you can specify the PSMs to annotate as follows (for each PSM the corresponding MGF file and the scan number needs to specified):"
   ]
  },
  {
   "cell_type": "code",
   "execution_count": null,
   "metadata": {
    "id": "2kpXIRWbaQom"
   },
   "outputs": [],
   "source": [
    "to_annotate = [\n",
    "    [\"20150929_QE5_UPLC10_RJC_SA_Plaque6_01.mgf\",12057],\n",
    "    [\"20150929_QE5_UPLC10_RJC_SA_Plaque6_01.mgf\",12058]\n",
    "]"
   ]
  },
  {
   "cell_type": "markdown",
   "metadata": {
    "id": "nNZnsSLEaQom"
   },
   "source": [
    "The following code will create the PSM annotations:"
   ]
  },
  {
   "cell_type": "code",
   "execution_count": null,
   "metadata": {
    "colab": {
     "base_uri": "https://localhost:8080/",
     "height": 322
    },
    "id": "ZEod-7ZRaQom",
    "outputId": "e8ee68fe-a1e7-4274-ea7b-a82e8ab03e82"
   },
   "outputs": [],
   "source": [
    "for mgf_file, scan in to_annotate:\n",
    "    html_filename = annotations.lorikeet.generate_html(annotations_folder,mgf_folder,mgf_file,scan,ionbot,l_os=\"linux\")\n",
    "    print(\"Annotations written to %s\"%html_filename)"
   ]
  },
  {
   "cell_type": "code",
   "execution_count": null,
   "metadata": {},
   "outputs": [],
   "source": [
    "shutil.make_archive(\"my_annotations\", \"zip\", \"my_annotations\")"
   ]
  },
  {
   "cell_type": "markdown",
   "metadata": {
    "id": "VP5_P4ozaQom"
   },
   "source": [
    "## Modifications\n",
    "\n",
    "The 'unexpected_modification' column only shows the matched unexpected modification, not the modifications set as varialbe (expected):"
   ]
  },
  {
   "cell_type": "code",
   "execution_count": null,
   "metadata": {
    "colab": {
     "base_uri": "https://localhost:8080/",
     "height": 436
    },
    "id": "g4j9lvy7aQom",
    "outputId": "7e64bcdf-2e06-4e64-a742-6f9d6b0dde33"
   },
   "outputs": [],
   "source": [
    "ionbot[[\"ionbot_match_id\",\"modifications\",\"unexpected_modification\"]]"
   ]
  },
  {
   "cell_type": "markdown",
   "metadata": {
    "id": "Pk7I93MKaQon"
   },
   "source": [
    "All matched modifications are in the 'modifications' column. We can parse this column as follows:"
   ]
  },
  {
   "cell_type": "code",
   "execution_count": null,
   "metadata": {
    "colab": {
     "base_uri": "https://localhost:8080/"
    },
    "id": "lwoEAwgIaQon",
    "outputId": "10edb6b8-db7f-4fe5-8fa1-a05bf538451e"
   },
   "outputs": [],
   "source": [
    "modifications = {}\n",
    "\n",
    "def get_modifications(x):\n",
    "    if str(x) == \"nan\":\n",
    "        return\n",
    "    tmp = x.split('|')\n",
    "    for i in range(0,len(tmp),2):\n",
    "        if not tmp[i+1] in modifications:\n",
    "            modifications[tmp[i+1]] = 0\n",
    "        modifications[tmp[i+1]] += 1\n",
    "        \n",
    "ionbot[\"modifications\"].apply(get_modifications)\n",
    "{k: v for k, v in sorted(modifications.items(), key=lambda item: item[1], reverse=True)}"
   ]
  },
  {
   "cell_type": "markdown",
   "metadata": {
    "id": "QBtUHDG8aQon"
   },
   "source": [
    "## The protein results\n",
    "\n",
    "There are two protein inference result files:\n",
    "\n",
    "- ionbot.first.proteins.csv\n",
    "- ionbot.coeluting.proteins.csv\n",
    "\n",
    "The first file contains the protein statistics infered from the first ranked matched only. The second file containst the protein statistics infered from all co-eluting matches.\n",
    "\n",
    "We will continue with the proteins infered from all co-eluting matches:"
   ]
  },
  {
   "cell_type": "code",
   "execution_count": null,
   "metadata": {
    "id": "sCGQ45DYaQon"
   },
   "outputs": [],
   "source": [
    "proteins = pd.read_csv(f\"{single_result_folder}/ionbot.coeluting.proteins.csv\")"
   ]
  },
  {
   "cell_type": "code",
   "execution_count": null,
   "metadata": {
    "colab": {
     "base_uri": "https://localhost:8080/"
    },
    "id": "cSVo-MsOaQon",
    "outputId": "572703b5-c293-41ec-df01-0e6e37fd07e4"
   },
   "outputs": [],
   "source": [
    "for col in proteins.columns:\n",
    "    print(col)"
   ]
  },
  {
   "cell_type": "markdown",
   "metadata": {
    "id": "YWBo9Ml_aQon"
   },
   "source": [
    "These are the columns (described [here](https://ionbot.cloud/help)):"
   ]
  },
  {
   "cell_type": "markdown",
   "metadata": {
    "id": "K04kK0umaQon"
   },
   "source": [
    "The `protein_group` column is a concatenation of the proteins it contains (search for '__'):"
   ]
  },
  {
   "cell_type": "code",
   "execution_count": null,
   "metadata": {
    "colab": {
     "base_uri": "https://localhost:8080/",
     "height": 436
    },
    "id": "jNo4FsYxaQoo",
    "outputId": "2f531df4-e3cc-4131-b88c-aae5c534e5aa"
   },
   "outputs": [],
   "source": [
    "cols_to_use = [\"ionbot_match_id\",\"protein_group\",\"protein\",\"position_in_protein\",\"uniprot_id\"]\n",
    "proteins[cols_to_use]"
   ]
  },
  {
   "cell_type": "markdown",
   "metadata": {
    "id": "9lK5SVVdaQoo"
   },
   "source": [
    "Notice how protein groups that contain more than protein are also split over the rows. This allows for the 'position_in_protein', 'uniprot_id', 'protein_length' and 'protein_description' to make sense.\n",
    "\n",
    "However, we want to look at protein groups only, so we remove these duplicated rows:"
   ]
  },
  {
   "cell_type": "code",
   "execution_count": null,
   "metadata": {
    "colab": {
     "base_uri": "https://localhost:8080/",
     "height": 436
    },
    "id": "BncR8GskaQoo",
    "outputId": "32cf2987-824d-4cf5-823e-4f3f69294024"
   },
   "outputs": [],
   "source": [
    "cols_to_use = [\"ionbot_match_id\",\"is_shared_peptide\",\"protein_group\",\"protein_group_q-value\",\"protein_group_PEP\"]\n",
    "proteins = proteins[cols_to_use]\n",
    "proteins.drop_duplicates([\"ionbot_match_id\",\"protein_group\"],inplace=True)\n",
    "proteins"
   ]
  },
  {
   "cell_type": "markdown",
   "metadata": {
    "id": "_-cVeuZRaQoo"
   },
   "source": [
    "PSMs matched with two or more protein groups are indicated in the `is_shared_peptide` column:"
   ]
  },
  {
   "cell_type": "code",
   "execution_count": null,
   "metadata": {
    "colab": {
     "base_uri": "https://localhost:8080/"
    },
    "id": "arva4HnIaQoo",
    "outputId": "373e90f7-9809-4ffe-8709-c6995bd26f03"
   },
   "outputs": [],
   "source": [
    "print(proteins[\"is_shared_peptide\"].value_counts())"
   ]
  },
  {
   "cell_type": "markdown",
   "metadata": {
    "id": "ghacE4kxaQoo"
   },
   "source": [
    "We wil continue with non-shared peptide matches only (you can of course skip this step):"
   ]
  },
  {
   "cell_type": "code",
   "execution_count": null,
   "metadata": {
    "id": "DRFJ1eziaQoo"
   },
   "outputs": [],
   "source": [
    "proteins = proteins[proteins[\"is_shared_peptide\"]==False]"
   ]
  },
  {
   "cell_type": "markdown",
   "metadata": {
    "id": "q3GtOrLKaQoo"
   },
   "source": [
    "Now we can count the number of (non-shared) PSMs in each protein group and add this as a column called `#PSMs`:"
   ]
  },
  {
   "cell_type": "code",
   "execution_count": null,
   "metadata": {
    "colab": {
     "base_uri": "https://localhost:8080/",
     "height": 372
    },
    "id": "LQrQ35INaQop",
    "outputId": "a0efbc90-562c-458f-86bc-26887ffeb17c"
   },
   "outputs": [],
   "source": [
    "tmp = proteins[\"protein_group\"].value_counts().reset_index(level=0)\n",
    "tmp.columns = [\"protein_group\",\"#PSMs\"]\n",
    "proteins = proteins.merge(tmp,on=\"protein_group\",how=\"left\")\n",
    "proteins.drop_duplicates([\"protein_group\"])[[\"protein_group\",\"protein_group_q-value\",\"#PSMs\"]]"
   ]
  },
  {
   "cell_type": "markdown",
   "metadata": {
    "id": "eZXmZLLYaQop"
   },
   "source": [
    "We can then count then number of protein groups with a specific number of PSMs. Is spectral count a good metric for quantification of a protein?"
   ]
  },
  {
   "cell_type": "markdown",
   "metadata": {},
   "source": [
    "<details>\n",
    "  <summary>>show</summary>\n",
    "\n",
    "  ```\n",
    "  Spectral counting is a very rough estimate of the protein abundance. It is very easy and fast to calculate, but more sophisticated methods are required to get an accurate estimate of protein abundance.\n",
    "  ```\n",
    "</details>"
   ]
  },
  {
   "cell_type": "code",
   "execution_count": null,
   "metadata": {
    "colab": {
     "base_uri": "https://localhost:8080/",
     "height": 542
    },
    "id": "yCl4wr8daQop",
    "outputId": "80a83647-2d5f-484e-f59b-9a5645633b5f"
   },
   "outputs": [],
   "source": [
    "tmp = proteins.drop_duplicates(\"protein_group\")[\"#PSMs\"].value_counts().reset_index(level=0)\n",
    "fig = px.pie(tmp, values='#PSMs', names='index', title='#PSMs in protein group')\n",
    "fig.update_traces(textposition='inside')\n",
    "fig.show()"
   ]
  },
  {
   "cell_type": "markdown",
   "metadata": {
    "id": "MOlU-2_7aQop"
   },
   "source": [
    "To compute counts at the peptide level we need to merge the `proteins` data with the `ionbot` data (we do this using the `ionbot_match_id` column:"
   ]
  },
  {
   "cell_type": "code",
   "execution_count": null,
   "metadata": {
    "id": "ItllxPzkaQop"
   },
   "outputs": [],
   "source": [
    "proteins = proteins.merge(ionbot,on=\"ionbot_match_id\",how=\"left\")"
   ]
  },
  {
   "cell_type": "code",
   "execution_count": null,
   "metadata": {
    "colab": {
     "base_uri": "https://localhost:8080/"
    },
    "id": "YzHts0vFaQop",
    "outputId": "8adf0af3-2d23-4f54-fe42-910e3a8c50a6"
   },
   "outputs": [],
   "source": [
    "proteins.columns"
   ]
  },
  {
   "cell_type": "markdown",
   "metadata": {
    "id": "tfb2ALD5aQop"
   },
   "source": [
    "Now we can count the number of unique peptides in each protein group and add this as a column called `#peptides`:"
   ]
  },
  {
   "cell_type": "code",
   "execution_count": null,
   "metadata": {
    "id": "EFI6NmYcaQop"
   },
   "outputs": [],
   "source": [
    "tmp = proteins.drop_duplicates(\"matched_peptide\")[\"protein_group\"].value_counts().reset_index(level=0)\n",
    "tmp.columns = [\"protein_group\",\"#peptides\"]\n",
    "proteins = proteins.merge(tmp,on=\"protein_group\",how=\"left\")"
   ]
  },
  {
   "cell_type": "code",
   "execution_count": null,
   "metadata": {
    "colab": {
     "base_uri": "https://localhost:8080/",
     "height": 436
    },
    "id": "K31aJB5-aQoq",
    "outputId": "9aaa0a62-8ba7-48d5-d0dc-334d65227332"
   },
   "outputs": [],
   "source": [
    "proteins[cols_to_use + [\"#peptides\"]]"
   ]
  },
  {
   "cell_type": "code",
   "execution_count": null,
   "metadata": {
    "colab": {
     "base_uri": "https://localhost:8080/",
     "height": 542
    },
    "id": "QuSZdQ8iaQoq",
    "outputId": "0d3ca325-ab7e-4164-ac40-b62ae299d9ac"
   },
   "outputs": [],
   "source": [
    "tmp = proteins.drop_duplicates(\"protein_group\")[\"#peptides\"].value_counts().reset_index(level=0)\n",
    "fig = px.pie(tmp, values='#peptides', names='index', title='#Peptides in protein group')\n",
    "fig.update_traces(textposition='inside')\n",
    "fig.show()"
   ]
  },
  {
   "cell_type": "markdown",
   "metadata": {
    "id": "VkQflnwSaQoq"
   },
   "source": [
    "We can also compute protein group specific features:"
   ]
  },
  {
   "cell_type": "code",
   "execution_count": null,
   "metadata": {
    "colab": {
     "base_uri": "https://localhost:8080/"
    },
    "id": "kMjc4CsfaQoq",
    "outputId": "8268ee8a-8faf-48b3-ac0f-e261ce0536b7"
   },
   "outputs": [],
   "source": [
    "cols = [\"psm_score\",\"all-count\",\"by-intensity-pattern-correlation\"]\n",
    "metrics = [\"min\",\"max\"]\n",
    "\n",
    "\n",
    "feature_cols = []\n",
    "for col in cols:\n",
    "    for metric in metrics:\n",
    "        feature_cols.append(col+\"_\"+metric)\n",
    "        proteins[col+\"_\"+metric] = proteins.groupby('protein_group')[col].transform(metric)\n",
    "        \n",
    "feature_cols"
   ]
  },
  {
   "cell_type": "code",
   "execution_count": null,
   "metadata": {
    "colab": {
     "base_uri": "https://localhost:8080/",
     "height": 436
    },
    "id": "mn8bnBHQaQoq",
    "outputId": "60eb9ca7-a0e1-427f-f55b-73e972e00a7e"
   },
   "outputs": [],
   "source": [
    "proteins[[\"protein_group\"] + feature_cols]"
   ]
  },
  {
   "cell_type": "markdown",
   "metadata": {
    "id": "3DQ2qIcxfiEl"
   },
   "source": [
    "## Analyzing all results"
   ]
  },
  {
   "cell_type": "markdown",
   "metadata": {},
   "source": [
    "In this section we will analyze all the files present in this project. First we will read all the .csv files. Note that we will not unpack the twbx file now, but we will immediately read in the unzipped version of the first ranked PSMs."
   ]
  },
  {
   "cell_type": "code",
   "execution_count": null,
   "metadata": {},
   "outputs": [],
   "source": [
    "from collections import Counter\n",
    "from itertools import chain\n",
    "\n",
    "ionbot_all = []\n",
    "for f in processed_files:\n",
    "    f_name = os.path.join(f,\"Data/ionbot_result/ionbot.first.csv\")\n",
    "    print(f\"Reading... {f_name}\")\n",
    "    ionbot_all.append(pd.read_csv(f_name)) "
   ]
  },
  {
   "cell_type": "markdown",
   "metadata": {},
   "source": [
    "We have read in the tables (i.e., matrices) seperately in the previous step. In this step we will merge all of these tables together. We use axis=0 so we link the columns and add rows from the different tables."
   ]
  },
  {
   "cell_type": "code",
   "execution_count": null,
   "metadata": {},
   "outputs": [],
   "source": [
    "ionbot_all_df = pd.concat(ionbot_all,axis=0)"
   ]
  },
  {
   "cell_type": "markdown",
   "metadata": {},
   "source": [
    "Next we will format all modifications so they are position independant (removing modification position)."
   ]
  },
  {
   "cell_type": "code",
   "execution_count": null,
   "metadata": {},
   "outputs": [],
   "source": [
    "modifications = {}\n",
    "\n",
    "def get_modifications(x):\n",
    "    if str(x) == \"nan\":\n",
    "        return []\n",
    "    tmp = x.split('|')\n",
    "    ret_mods = []\n",
    "    for i in range(0,len(tmp),2):\n",
    "        ret_mods.append(tmp[i+1])\n",
    "    return ret_mods\n",
    "        \n",
    "ionbot_all_df[\"stripped_modifications\"] = ionbot_all_df[\"modifications\"].apply(get_modifications)\n"
   ]
  },
  {
   "cell_type": "markdown",
   "metadata": {},
   "source": [
    "We can count modifications now using \"Counter\", but we have to do some 'magic' to make sure we do not ignore modifications that co-occur on the same PSM."
   ]
  },
  {
   "cell_type": "code",
   "execution_count": null,
   "metadata": {},
   "outputs": [],
   "source": [
    "modification_count = Counter(chain(*list(ionbot_all_df[\"stripped_modifications\"])))"
   ]
  },
  {
   "cell_type": "markdown",
   "metadata": {},
   "source": [
    "Lets have a look at the top 25 most common modifications for all runs:"
   ]
  },
  {
   "cell_type": "code",
   "execution_count": null,
   "metadata": {},
   "outputs": [],
   "source": [
    "modification_count.most_common()[0:25]"
   ]
  },
  {
   "cell_type": "markdown",
   "metadata": {},
   "source": [
    "Lets single out the modern plaque samples, these contain the label \"_RJC_SA_Plaque\" in their file name."
   ]
  },
  {
   "cell_type": "code",
   "execution_count": null,
   "metadata": {},
   "outputs": [],
   "source": [
    "selection_modern = [True if \"_RJC_SA_Plaque\" in f else False for f in ionbot_all_df[\"spectrum_file\"]]\n",
    "selection_old = [True if \"_RJC_SA_Plaque\" not in f else False for f in ionbot_all_df[\"spectrum_file\"]]"
   ]
  },
  {
   "cell_type": "markdown",
   "metadata": {},
   "source": [
    "Again we count the modifications, but this time split it into old and modern samples."
   ]
  },
  {
   "cell_type": "code",
   "execution_count": null,
   "metadata": {},
   "outputs": [],
   "source": [
    "counter_old = Counter(chain(*list(ionbot_all_df[selection_old][\"stripped_modifications\"])))\n",
    "counter_modern = Counter(chain(*list(ionbot_all_df[selection_modern][\"stripped_modifications\"])))"
   ]
  },
  {
   "cell_type": "markdown",
   "metadata": {},
   "source": [
    "For normalization we use a very simple (naive...) approach of sum normalisation where each count value of a sample is divided by the sum of all modification counts. For this we will calculate the sum of counts."
   ]
  },
  {
   "cell_type": "code",
   "execution_count": null,
   "metadata": {},
   "outputs": [],
   "source": [
    "sum_old = sum(counter_old.values())\n",
    "sum_new = sum(counter_modern.values())"
   ]
  },
  {
   "cell_type": "markdown",
   "metadata": {},
   "source": [
    "Next we will plot the top 10 most occuring modifications and their counts in a pie plot. How does the top 100 (or even 500) compare to the counts of the top 10?"
   ]
  },
  {
   "cell_type": "markdown",
   "metadata": {},
   "source": [
    "<details>\n",
    "  <summary>>show</summary>\n",
    "\n",
    "  ```\n",
    "  The top 10 contains by far the majority of all modifications. The dynamic range of proteins is huge, and the same is true for modifications. \n",
    "  ```\n",
    "</details>"
   ]
  },
  {
   "cell_type": "code",
   "execution_count": null,
   "metadata": {},
   "outputs": [],
   "source": [
    "old_pds = pd.Series(dict(counter_old.most_common()[0:10]))\n",
    "modern_pds = pd.Series(dict(counter_modern.most_common()[0:10]))\n",
    "\n",
    "fig = px.pie(old_pds, values=old_pds, names=old_pds.index, title='Modification count old samples')\n",
    "fig.update_traces(textposition='inside')\n",
    "fig.show()\n",
    "\n",
    "fig = px.pie(modern_pds, values=modern_pds, names=modern_pds.index, title='Modification count modern samples')\n",
    "fig.update_traces(textposition='inside')\n",
    "fig.show()"
   ]
  },
  {
   "cell_type": "markdown",
   "metadata": {},
   "source": [
    "There are certain modifications we expect in old sample due to degradation of the proteins. What kind of modifications do you expect? And if we look below can you visually see the groups?"
   ]
  },
  {
   "cell_type": "markdown",
   "metadata": {},
   "source": [
    "<details>\n",
    "  <summary>>show</summary>\n",
    "\n",
    "  ```\n",
    "  Deamidation and proline oxidation are well known to be present in samples with degraded proteins. Other oxidative modifications are also expected.\n",
    "  ```\n",
    "</details>"
   ]
  },
  {
   "cell_type": "code",
   "execution_count": null,
   "metadata": {},
   "outputs": [],
   "source": [
    "selected_mod = \"[35]Oxidation[P]\"\n",
    "\n",
    "def count_spec_mods(mods):\n",
    "    return Counter(chain(*list(mods)))[selected_mod]\n",
    "\n",
    "def count_all_mods(mods):\n",
    "    return Counter(chain(*list(mods))).values()\n",
    "\n",
    "group_mods = ionbot_all_df.groupby(\"spectrum_file\")[\"stripped_modifications\"].apply(count_spec_mods)\n",
    "group_mods_sum = ionbot_all_df.groupby(\"spectrum_file\")[\"stripped_modifications\"].apply(count_all_mods).apply(sum)\n",
    "\n",
    "fig = px.bar((group_mods/group_mods_sum)*100, x=[\"_\".join(v.split(\"_\")[-4:-1]) for v in group_mods.index], y=(group_mods/group_mods_sum)*100)\n",
    "fig.show()"
   ]
  },
  {
   "cell_type": "code",
   "execution_count": null,
   "metadata": {},
   "outputs": [],
   "source": [
    "selected_mod = \"[7]Deamidated[N]\"\n",
    "\n",
    "group_mods = ionbot_all_df.groupby(\"spectrum_file\")[\"stripped_modifications\"].apply(count_spec_mods)\n",
    "group_mods_sum = ionbot_all_df.groupby(\"spectrum_file\")[\"stripped_modifications\"].apply(count_all_mods).apply(sum)\n",
    "\n",
    "fig = px.bar((group_mods/group_mods_sum)*100, x=[\"_\".join(v.split(\"_\")[-4:-1]) for v in group_mods.index], y=(group_mods/group_mods_sum)*100)\n",
    "fig.show()"
   ]
  },
  {
   "cell_type": "markdown",
   "metadata": {},
   "source": [
    "If you want you can select different modifications by replacing the value set for \"selected_mod\". The top 100 below can provide some hints on what values to use:"
   ]
  },
  {
   "cell_type": "code",
   "execution_count": null,
   "metadata": {},
   "outputs": [],
   "source": [
    "counter_old.most_common()[0:100]"
   ]
  },
  {
   "cell_type": "markdown",
   "metadata": {},
   "source": [
    "## Modification profile clustering"
   ]
  },
  {
   "cell_type": "markdown",
   "metadata": {},
   "source": [
    "In this section we will cluster the samples using the modification profiles in T-SNE. In the paper this was done mostly based on species, but even without knowing the species the modification landscape can provide many clues on the specific samples. First we will define a color map for the cluster (file/sample linked to color)."
   ]
  },
  {
   "cell_type": "code",
   "execution_count": null,
   "metadata": {},
   "outputs": [],
   "source": [
    "from sklearn.manifold import TSNE\n",
    "\n",
    "color_sample_map = {\n",
    "    '20150929_QE5_UPLC10_RJC_SA_Plaque1_01.mgf' : \"blue\",\n",
    "    '20150929_QE5_UPLC10_RJC_SA_Plaque2_01.mgf' : \"blue\",\n",
    "    '20150929_QE5_UPLC10_RJC_SA_Plaque3_01.mgf' : \"blue\",\n",
    "    '20150929_QE5_UPLC10_RJC_SA_Plaque4_01.mgf' : \"blue\",\n",
    "    '20150929_QE5_UPLC10_RJC_SA_Plaque5_01.mgf' : \"blue\",\n",
    "    '20150929_QE5_UPLC10_RJC_SA_Plaque6_01.mgf' : \"blue\",\n",
    "    '20150929_QE5_UPLC10_RJC_SA_Plaque7_01.mgf' : \"blue\",\n",
    "    '20160531_QE5_nLC14_RJC_COLLAB_GeoG_1000_01.mgf' : \"grey\",\n",
    "    '20160531_QE5_nLC14_RJC_COLLAB_GeoG_1001_01.mgf' : \"grey\",\n",
    "    '20160531_QE5_nLC14_RJC_COLLAB_GeoG_1002_01.mgf' : \"grey\",\n",
    "    '20160531_QE5_nLC14_RJC_COLLAB_GeoG_1003_01.mgf' : \"grey\",\n",
    "    '20160531_QE5_nLC14_RJC_COLLAB_GeoG_987_01.mgf' : \"red\",\n",
    "    '20160531_QE5_nLC14_RJC_COLLAB_GeoG_988_01.mgf' : \"red\",\n",
    "    '20160531_QE5_nLC14_RJC_COLLAB_GeoG_989_01.mgf' : \"red\",\n",
    "    '20160531_QE5_nLC14_RJC_COLLAB_GeoG_990_01.mgf' : \"green\",\n",
    "    '20160531_QE5_nLC14_RJC_COLLAB_GeoG_991_01.mgf' : \"green\",\n",
    "    '20160531_QE5_nLC14_RJC_COLLAB_GeoG_992_01.mgf' : \"green\",\n",
    "    '20160531_QE5_nLC14_RJC_COLLAB_GeoG_993_01.mgf' : \"red\",\n",
    "    '20160531_QE5_nLC14_RJC_COLLAB_GeoG_994_01.mgf' : \"red\",\n",
    "    '20160531_QE5_nLC14_RJC_COLLAB_GeoG_995_01.mgf' : \"red\",\n",
    "    '20160531_QE5_nLC14_RJC_COLLAB_GeoG_996_01.mgf' : \"red\",\n",
    "    '20160531_QE5_nLC14_RJC_COLLAB_GeoG_997_01.mgf' : \"red\",\n",
    "    '20160531_QE5_nLC14_RJC_COLLAB_GeoG_998_01.mgf' : \"red\",\n",
    "    '20160531_QE5_nLC14_RJC_COLLAB_GeoG_999_01.mgf' : \"green\",\n",
    "    '20160608_QE5_nLC14_RJC_COLLAB_GeoG_1004_01.mgf' : \"green\",\n",
    "    '20160608_QE5_nLC14_RJC_COLLAB_GeoG_1005_01.mgf' : \"red\",\n",
    "    '20160608_QE5_nLC14_RJC_COLLAB_GeoG_1006_01.mgf' : \"red\",\n",
    "    '20160608_QE5_nLC14_RJC_COLLAB_GeoG_1007_01.mgf' : \"green\",\n",
    "    '20160608_QE5_nLC14_RJC_COLLAB_GeoG_1008_01.mgf' : \"green\",\n",
    "    '20160608_QE5_nLC14_RJC_COLLAB_GeoG_1009_01.mgf' : \"green\",\n",
    "    '20160608_QE5_nLC14_RJC_COLLAB_GeoG_1010_01.mgf' : \"red\",\n",
    "    '20160608_QE5_nLC14_RJC_COLLAB_GeoG_1011_01.mgf' : \"grey\",\n",
    "    '20160701_QE3_nLC5_MEM_MODCALC_C1_01.mgf' : \"black\",\n",
    "    '20160701_QE3_nLC5_MEM_MODCALC_C2B_01.mgf' : \"black\",\n",
    "    '20160701_QE3_nLC5_MEM_MODCALC_C3A_01.mgf' : \"black\",\n",
    "    '20160701_QE3_nLC5_MEM_MODCALC_C4A_01.mgf' : \"black\",\n",
    "    '20160701_QE3_nLC5_MEM_MODCALC_C5B_01.mgf' : \"black\",\n",
    "    '20160701_QE3_nLC5_MEM_MODCALC_C6B_01.mgf' : \"black\",\n",
    "    '20160701_QE3_nLC5_MEM_MODCALC_C7B_01.mgf' : \"black\"\n",
    "}"
   ]
  },
  {
   "cell_type": "markdown",
   "metadata": {},
   "source": [
    "This time we are grouping by spectrum file and applying the counter:"
   ]
  },
  {
   "cell_type": "code",
   "execution_count": null,
   "metadata": {},
   "outputs": [],
   "source": [
    "def count_all_mods_counter(mods):\n",
    "    return Counter(chain(*list(mods)))\n",
    "\n",
    "ionbot_counter_per_file = ionbot_all_df.groupby(\"spectrum_file\")[\"stripped_modifications\"].apply(count_all_mods_counter)"
   ]
  },
  {
   "cell_type": "markdown",
   "metadata": {},
   "source": [
    "We need a matrix for T-SNE, in the following cell we transform the grouped dataframe to a matrix dataframe: "
   ]
  },
  {
   "cell_type": "code",
   "execution_count": null,
   "metadata": {},
   "outputs": [],
   "source": [
    "mod_dict = {}\n",
    "for k,v in ionbot_counter_per_file.to_dict().items():\n",
    "    try:\n",
    "        mod_dict[k[0]]\n",
    "    except KeyError:\n",
    "        mod_dict[k[0]] = {}\n",
    "    mod_dict[k[0]][k[1]] = v\n",
    "mod_df = pd.DataFrame(mod_dict)"
   ]
  },
  {
   "cell_type": "markdown",
   "metadata": {},
   "source": [
    "Making sure there are not zeros in the matrix and fitting T-SNE."
   ]
  },
  {
   "cell_type": "code",
   "execution_count": null,
   "metadata": {},
   "outputs": [],
   "source": [
    "mod_df.fillna(0,inplace=True)\n",
    "\n",
    "mod_df_embedded = TSNE(n_components=2, learning_rate='auto',\n",
    "                       init='random', perplexity=30).fit_transform(mod_df.T)"
   ]
  },
  {
   "cell_type": "markdown",
   "metadata": {},
   "source": [
    "As you can see the clustering is quite good. Can we conclude from this that the MODCALC (calcium deposites modern teeth) samples are closer to modern plaque samples than to the ancient ones? "
   ]
  },
  {
   "cell_type": "markdown",
   "metadata": {},
   "source": [
    "<details>\n",
    "  <summary>>show</summary>\n",
    "\n",
    "  ```\n",
    "  T-SNE is not suitable for distances between clusters. PCA, MDS, and to some degree UMAP is more suitable.\n",
    "  ```\n",
    "</details>"
   ]
  },
  {
   "cell_type": "code",
   "execution_count": null,
   "metadata": {},
   "outputs": [],
   "source": [
    "plt.scatter(mod_df_embedded[:,0],mod_df_embedded[:,1], c = color_sample_map.values())"
   ]
  }
 ],
 "metadata": {
  "colab": {
   "collapsed_sections": [
    "uShOP0hCaQol",
    "2FGbYCexaQol",
    "VP5_P4ozaQom",
    "QBtUHDG8aQon"
   ],
   "provenance": []
  },
  "kernelspec": {
   "display_name": "Python 3 (ipykernel)",
   "language": "python",
   "name": "python3"
  },
  "language_info": {
   "codemirror_mode": {
    "name": "ipython",
    "version": 3
   },
   "file_extension": ".py",
   "mimetype": "text/x-python",
   "name": "python",
   "nbconvert_exporter": "python",
   "pygments_lexer": "ipython3",
   "version": "3.9.7"
  }
 },
 "nbformat": 4,
 "nbformat_minor": 4
}
